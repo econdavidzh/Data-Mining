{
  "nbformat": 4,
  "nbformat_minor": 0,
  "metadata": {
    "colab": {
      "name": "Distribution of Genetic Alterations in Ph-Like and No-Ph-Like Cases.ipynb",
      "provenance": [],
      "collapsed_sections": []
    },
    "kernelspec": {
      "name": "python3",
      "display_name": "Python 3"
    },
    "language_info": {
      "name": "python"
    }
  },
  "cells": [
    {
      "cell_type": "code",
      "metadata": {
        "id": "h5raDFk1L4DT"
      },
      "source": [
        "import pandas as pd\n",
        "import numpy as np\n",
        "import matplotlib.pyplot as plt\n",
        "import seaborn as sns\n",
        "import holoviews as hv\n",
        "import plotly.graph_objects as go\n",
        "import plotly.express as pex"
      ],
      "execution_count": null,
      "outputs": []
    },
    {
      "cell_type": "code",
      "metadata": {
        "id": "KkWEmkxCTYn7",
        "colab": {
          "base_uri": "https://localhost:8080/",
          "height": 419
        },
        "outputId": "094f2c8a-9eb0-4533-8ecb-fe87ce3a8e61"
      },
      "source": [
        "df=pd.read_excel('DB1.xlsx')\n",
        "df"
      ],
      "execution_count": null,
      "outputs": [
        {
          "output_type": "execute_result",
          "data": {
            "text/html": [
              "<div>\n",
              "<style scoped>\n",
              "    .dataframe tbody tr th:only-of-type {\n",
              "        vertical-align: middle;\n",
              "    }\n",
              "\n",
              "    .dataframe tbody tr th {\n",
              "        vertical-align: top;\n",
              "    }\n",
              "\n",
              "    .dataframe thead th {\n",
              "        text-align: right;\n",
              "    }\n",
              "</style>\n",
              "<table border=\"1\" class=\"dataframe\">\n",
              "  <thead>\n",
              "    <tr style=\"text-align: right;\">\n",
              "      <th></th>\n",
              "      <th>PACIENTE</th>\n",
              "      <th>PHILADELPHIA</th>\n",
              "      <th>MLPACATEG</th>\n",
              "      <th>IKZF1</th>\n",
              "      <th>CDKN2A/B</th>\n",
              "      <th>BTG1</th>\n",
              "      <th>PAX5</th>\n",
              "      <th>ETV6</th>\n",
              "      <th>JAK2</th>\n",
              "      <th>RB1</th>\n",
              "      <th>ILR3A</th>\n",
              "      <th>P2RY8</th>\n",
              "      <th>CSF22RA</th>\n",
              "    </tr>\n",
              "  </thead>\n",
              "  <tbody>\n",
              "    <tr>\n",
              "      <th>0</th>\n",
              "      <td>PL01</td>\n",
              "      <td>NO PH LIKE</td>\n",
              "      <td>NOT AVAILABLE</td>\n",
              "      <td>NaN</td>\n",
              "      <td>NaN</td>\n",
              "      <td>NaN</td>\n",
              "      <td>NaN</td>\n",
              "      <td>NaN</td>\n",
              "      <td>NaN</td>\n",
              "      <td>NaN</td>\n",
              "      <td>NaN</td>\n",
              "      <td>NaN</td>\n",
              "      <td>NaN</td>\n",
              "    </tr>\n",
              "    <tr>\n",
              "      <th>1</th>\n",
              "      <td>PL02</td>\n",
              "      <td>NO PH LIKE</td>\n",
              "      <td>NOT AVAILABLE</td>\n",
              "      <td>NaN</td>\n",
              "      <td>NaN</td>\n",
              "      <td>NaN</td>\n",
              "      <td>NaN</td>\n",
              "      <td>NaN</td>\n",
              "      <td>NaN</td>\n",
              "      <td>NaN</td>\n",
              "      <td>NaN</td>\n",
              "      <td>NaN</td>\n",
              "      <td>NaN</td>\n",
              "    </tr>\n",
              "    <tr>\n",
              "      <th>2</th>\n",
              "      <td>PL03</td>\n",
              "      <td>NO PH LIKE</td>\n",
              "      <td>NaN</td>\n",
              "      <td>NaN</td>\n",
              "      <td>CDKN2A/B</td>\n",
              "      <td>NaN</td>\n",
              "      <td>NaN</td>\n",
              "      <td>NaN</td>\n",
              "      <td>NaN</td>\n",
              "      <td>NaN</td>\n",
              "      <td>NaN</td>\n",
              "      <td>NaN</td>\n",
              "      <td>NaN</td>\n",
              "    </tr>\n",
              "    <tr>\n",
              "      <th>3</th>\n",
              "      <td>PL05</td>\n",
              "      <td>NO PH LIKE</td>\n",
              "      <td>CNV NEGATIVE</td>\n",
              "      <td>NaN</td>\n",
              "      <td>NaN</td>\n",
              "      <td>NaN</td>\n",
              "      <td>NaN</td>\n",
              "      <td>NaN</td>\n",
              "      <td>NaN</td>\n",
              "      <td>NaN</td>\n",
              "      <td>NaN</td>\n",
              "      <td>NaN</td>\n",
              "      <td>NaN</td>\n",
              "    </tr>\n",
              "    <tr>\n",
              "      <th>4</th>\n",
              "      <td>PL06</td>\n",
              "      <td>NO PH LIKE</td>\n",
              "      <td>NaN</td>\n",
              "      <td>NaN</td>\n",
              "      <td>CDKN2A/B</td>\n",
              "      <td>NaN</td>\n",
              "      <td>NaN</td>\n",
              "      <td>NaN</td>\n",
              "      <td>NaN</td>\n",
              "      <td>NaN</td>\n",
              "      <td>NaN</td>\n",
              "      <td>NaN</td>\n",
              "      <td>NaN</td>\n",
              "    </tr>\n",
              "    <tr>\n",
              "      <th>...</th>\n",
              "      <td>...</td>\n",
              "      <td>...</td>\n",
              "      <td>...</td>\n",
              "      <td>...</td>\n",
              "      <td>...</td>\n",
              "      <td>...</td>\n",
              "      <td>...</td>\n",
              "      <td>...</td>\n",
              "      <td>...</td>\n",
              "      <td>...</td>\n",
              "      <td>...</td>\n",
              "      <td>...</td>\n",
              "      <td>...</td>\n",
              "    </tr>\n",
              "    <tr>\n",
              "      <th>116</th>\n",
              "      <td>PL145</td>\n",
              "      <td>PH LIKE</td>\n",
              "      <td>NaN</td>\n",
              "      <td>IKZF1</td>\n",
              "      <td>CDKN2A/B</td>\n",
              "      <td>NaN</td>\n",
              "      <td>NaN</td>\n",
              "      <td>NaN</td>\n",
              "      <td>NaN</td>\n",
              "      <td>NaN</td>\n",
              "      <td>NaN</td>\n",
              "      <td>NaN</td>\n",
              "      <td>NaN</td>\n",
              "    </tr>\n",
              "    <tr>\n",
              "      <th>117</th>\n",
              "      <td>PL146</td>\n",
              "      <td>PH LIKE</td>\n",
              "      <td>NaN</td>\n",
              "      <td>NaN</td>\n",
              "      <td>CDKN2A/B</td>\n",
              "      <td>NaN</td>\n",
              "      <td>PAX5</td>\n",
              "      <td>NaN</td>\n",
              "      <td>JAK2</td>\n",
              "      <td>NaN</td>\n",
              "      <td>NaN</td>\n",
              "      <td>NaN</td>\n",
              "      <td>NaN</td>\n",
              "    </tr>\n",
              "    <tr>\n",
              "      <th>118</th>\n",
              "      <td>PL148</td>\n",
              "      <td>NO PH LIKE</td>\n",
              "      <td>CNV NEGATIVE</td>\n",
              "      <td>NaN</td>\n",
              "      <td>NaN</td>\n",
              "      <td>NaN</td>\n",
              "      <td>NaN</td>\n",
              "      <td>NaN</td>\n",
              "      <td>NaN</td>\n",
              "      <td>NaN</td>\n",
              "      <td>NaN</td>\n",
              "      <td>NaN</td>\n",
              "      <td>NaN</td>\n",
              "    </tr>\n",
              "    <tr>\n",
              "      <th>119</th>\n",
              "      <td>PL149</td>\n",
              "      <td>NO PH LIKE</td>\n",
              "      <td>NaN</td>\n",
              "      <td>NaN</td>\n",
              "      <td>CDKN2A/B</td>\n",
              "      <td>NaN</td>\n",
              "      <td>PAX5</td>\n",
              "      <td>ETV6</td>\n",
              "      <td>NaN</td>\n",
              "      <td>RB1</td>\n",
              "      <td>NaN</td>\n",
              "      <td>NaN</td>\n",
              "      <td>NaN</td>\n",
              "    </tr>\n",
              "    <tr>\n",
              "      <th>120</th>\n",
              "      <td>PL150</td>\n",
              "      <td>NO PH LIKE</td>\n",
              "      <td>CNV NEGATIVE</td>\n",
              "      <td>NaN</td>\n",
              "      <td>NaN</td>\n",
              "      <td>NaN</td>\n",
              "      <td>NaN</td>\n",
              "      <td>NaN</td>\n",
              "      <td>NaN</td>\n",
              "      <td>NaN</td>\n",
              "      <td>NaN</td>\n",
              "      <td>NaN</td>\n",
              "      <td>NaN</td>\n",
              "    </tr>\n",
              "  </tbody>\n",
              "</table>\n",
              "<p>121 rows × 13 columns</p>\n",
              "</div>"
            ],
            "text/plain": [
              "    PACIENTE PHILADELPHIA      MLPACATEG  IKZF1  ...  RB1 ILR3A P2RY8 CSF22RA\n",
              "0       PL01   NO PH LIKE  NOT AVAILABLE    NaN  ...  NaN   NaN   NaN     NaN\n",
              "1       PL02   NO PH LIKE  NOT AVAILABLE    NaN  ...  NaN   NaN   NaN     NaN\n",
              "2       PL03   NO PH LIKE            NaN    NaN  ...  NaN   NaN   NaN     NaN\n",
              "3       PL05   NO PH LIKE   CNV NEGATIVE    NaN  ...  NaN   NaN   NaN     NaN\n",
              "4       PL06   NO PH LIKE            NaN    NaN  ...  NaN   NaN   NaN     NaN\n",
              "..       ...          ...            ...    ...  ...  ...   ...   ...     ...\n",
              "116    PL145      PH LIKE            NaN  IKZF1  ...  NaN   NaN   NaN     NaN\n",
              "117    PL146      PH LIKE            NaN    NaN  ...  NaN   NaN   NaN     NaN\n",
              "118    PL148   NO PH LIKE   CNV NEGATIVE    NaN  ...  NaN   NaN   NaN     NaN\n",
              "119    PL149   NO PH LIKE            NaN    NaN  ...  RB1   NaN   NaN     NaN\n",
              "120    PL150   NO PH LIKE   CNV NEGATIVE    NaN  ...  NaN   NaN   NaN     NaN\n",
              "\n",
              "[121 rows x 13 columns]"
            ]
          },
          "metadata": {
            "tags": []
          },
          "execution_count": 2
        }
      ]
    },
    {
      "cell_type": "code",
      "metadata": {
        "id": "41t8YERNTmWb",
        "colab": {
          "base_uri": "https://localhost:8080/"
        },
        "outputId": "53f53955-7a32-4276-b3f4-4637e0db52da"
      },
      "source": [
        "df.columns"
      ],
      "execution_count": null,
      "outputs": [
        {
          "output_type": "execute_result",
          "data": {
            "text/plain": [
              "Index(['PACIENTE', 'PHILADELPHIA', 'MLPACATEG', 'IKZF1', 'CDKN2A/B', 'BTG1',\n",
              "       'PAX5', 'ETV6', 'JAK2', 'RB1', 'ILR3A', 'P2RY8', 'CSF22RA'],\n",
              "      dtype='object')"
            ]
          },
          "metadata": {
            "tags": []
          },
          "execution_count": 3
        }
      ]
    },
    {
      "cell_type": "code",
      "metadata": {
        "id": "cgP1pl7bUDdN",
        "colab": {
          "base_uri": "https://localhost:8080/"
        },
        "outputId": "a72e4f5e-58c1-416e-b667-03e87c333a2b"
      },
      "source": [
        "labels = df.columns.drop('PACIENTE')\n",
        "labels"
      ],
      "execution_count": null,
      "outputs": [
        {
          "output_type": "execute_result",
          "data": {
            "text/plain": [
              "Index(['PHILADELPHIA', 'MLPACATEG', 'IKZF1', 'CDKN2A/B', 'BTG1', 'PAX5',\n",
              "       'ETV6', 'JAK2', 'RB1', 'ILR3A', 'P2RY8', 'CSF22RA'],\n",
              "      dtype='object')"
            ]
          },
          "metadata": {
            "tags": []
          },
          "execution_count": 4
        }
      ]
    },
    {
      "cell_type": "code",
      "metadata": {
        "id": "OODFVnTwTnzr"
      },
      "source": [
        "df[['PHILADELPHIA', 'MLPACATEG', 'IKZF1', 'CDKN2A/B', 'BTG1',\n",
        "       'PAX5', 'ETV6', 'JAK2', 'RB1', 'ILR3A', 'P2RY8', 'CSF22RA']] = df[['PHILADELPHIA', 'MLPACATEG', 'IKZF1', 'CDKN2A/B', 'BTG1',\n",
        "       'PAX5', 'ETV6', 'JAK2', 'RB1', 'ILR3A', 'P2RY8', 'CSF22RA']].astype(\"category\")"
      ],
      "execution_count": null,
      "outputs": []
    },
    {
      "cell_type": "code",
      "metadata": {
        "id": "_13mZTW6T1tu",
        "colab": {
          "base_uri": "https://localhost:8080/"
        },
        "outputId": "5f7f7330-ce7d-4f99-d074-94ce4c83750e"
      },
      "source": [
        "df.dtypes"
      ],
      "execution_count": null,
      "outputs": [
        {
          "output_type": "execute_result",
          "data": {
            "text/plain": [
              "PACIENTE          object\n",
              "PHILADELPHIA    category\n",
              "MLPACATEG       category\n",
              "IKZF1           category\n",
              "CDKN2A/B        category\n",
              "BTG1            category\n",
              "PAX5            category\n",
              "ETV6            category\n",
              "JAK2            category\n",
              "RB1             category\n",
              "ILR3A           category\n",
              "P2RY8           category\n",
              "CSF22RA         category\n",
              "dtype: object"
            ]
          },
          "metadata": {
            "tags": []
          },
          "execution_count": 6
        }
      ]
    },
    {
      "cell_type": "code",
      "metadata": {
        "id": "pIRgNTRVZNUv"
      },
      "source": [
        "df['indicador'] = df['PHILADELPHIA']"
      ],
      "execution_count": null,
      "outputs": []
    },
    {
      "cell_type": "code",
      "metadata": {
        "id": "V-f6CvE5V9qM",
        "colab": {
          "base_uri": "https://localhost:8080/"
        },
        "outputId": "eb77cc3f-64e7-4379-8d7b-76befb847453"
      },
      "source": [
        "df01 = df[['indicador','PHILADELPHIA']].rename(columns={'PHILADELPHIA':'frecuencia'})\n",
        "df02 = df[['indicador','MLPACATEG']].rename(columns={'MLPACATEG':'frecuencia'})\n",
        "df03 = df[['indicador','IKZF1']].rename(columns={'IKZF1':'frecuencia'})\n",
        "df04 = df[['indicador','CDKN2A/B']].rename(columns={'CDKN2A/B':'frecuencia'})\n",
        "df05 = df[['indicador','BTG1']].rename(columns={'BTG1':'frecuencia'})\n",
        "df06 = df[['indicador','PAX5']].rename(columns={'PAX5':'frecuencia'})\n",
        "df07 = df[['indicador','ETV6']].rename(columns={'ETV6':'frecuencia'})\n",
        "df08 = df[['indicador','JAK2']].rename(columns={'JAK2':'frecuencia'})\n",
        "df09 = df[['indicador','RB1']].rename(columns={'RB1':'frecuencia'})\n",
        "df10 = df[['indicador','ILR3A']].rename(columns={'ILR3A':'frecuencia'})\n",
        "df11 = df[['indicador','P2RY8']].rename(columns={'P2RY8':'frecuencia'})\n",
        "df12 = df[['indicador','CSF22RA']].rename(columns={'CSF22RA':'frecuencia'})\n",
        "frecuencias = df01.append(df02).append(df03).append(df04).append(df05).append(df06).append(df07).append(df08).append(df09).append(df10).append(df11).append(df12)\n",
        "tabla = df02.append(df03).append(df04).append(df05).append(df06).append(df07).append(df08).append(df09).append(df10).append(df11).append(df12)\n",
        "frecuencias.frecuencia.value_counts()"
      ],
      "execution_count": null,
      "outputs": [
        {
          "output_type": "execute_result",
          "data": {
            "text/plain": [
              "NO PH LIKE       106\n",
              "CNV NEGATIVE      65\n",
              "CDKN2A/B          25\n",
              "PH LIKE           15\n",
              "NOT AVAILABLE     13\n",
              "IKZF1             13\n",
              "ETV6              11\n",
              "PAX5               9\n",
              "RB1                4\n",
              "JAK2               2\n",
              "BTG1               2\n",
              "ILR3A              1\n",
              "P2RY8              1\n",
              "CSF22RA            1\n",
              "Name: frecuencia, dtype: int64"
            ]
          },
          "metadata": {
            "tags": []
          },
          "execution_count": 8
        }
      ]
    },
    {
      "cell_type": "code",
      "metadata": {
        "id": "On2Vi93ibxFw",
        "colab": {
          "base_uri": "https://localhost:8080/"
        },
        "outputId": "dad061cb-7812-4582-f1da-7105680c476d"
      },
      "source": [
        "figure_labels = frecuencias.frecuencia.value_counts().index\n",
        "figure_labels"
      ],
      "execution_count": null,
      "outputs": [
        {
          "output_type": "execute_result",
          "data": {
            "text/plain": [
              "Index(['NO PH LIKE', 'CNV NEGATIVE', 'CDKN2A/B', 'PH LIKE', 'NOT AVAILABLE',\n",
              "       'IKZF1', 'ETV6', 'PAX5', 'RB1', 'JAK2', 'BTG1', 'ILR3A', 'P2RY8',\n",
              "       'CSF22RA'],\n",
              "      dtype='object')"
            ]
          },
          "metadata": {
            "tags": []
          },
          "execution_count": 9
        }
      ]
    },
    {
      "cell_type": "code",
      "metadata": {
        "id": "DJiqC9fcgJNZ"
      },
      "source": [
        "figure_labels_with_numbers = ['NON-PH-LIKE (106)', 'CNV-NEGATIVE (65)', 'CDKN2A/B (25)', 'PH-LIKE (15)', 'IKZF1 (13)',\n",
        "       'NOT AVAILABLE (13)', 'ETV6 (11)', 'PAX5 (9)', 'RB1 (4)', 'BTG1 (2)', 'JAK2 (2)', 'CSF22RA (1)',\n",
        "       'P2RY8 (1)', 'ILR3A (1)']"
      ],
      "execution_count": null,
      "outputs": []
    },
    {
      "cell_type": "code",
      "metadata": {
        "id": "S5_5ytGvXcWC",
        "colab": {
          "base_uri": "https://localhost:8080/"
        },
        "outputId": "b2e9b9c1-bd1b-4842-96da-13d1f05e65c9"
      },
      "source": [
        "counter = 0\n",
        "index_table = {}\n",
        "for i in figure_labels:\n",
        "    index_table[counter] = i\n",
        "    counter = counter + 1\n",
        "index_table"
      ],
      "execution_count": null,
      "outputs": [
        {
          "output_type": "execute_result",
          "data": {
            "text/plain": [
              "{0: 'NO PH LIKE',\n",
              " 1: 'CNV NEGATIVE',\n",
              " 2: 'CDKN2A/B',\n",
              " 3: 'PH LIKE',\n",
              " 4: 'NOT AVAILABLE',\n",
              " 5: 'IKZF1',\n",
              " 6: 'ETV6',\n",
              " 7: 'PAX5',\n",
              " 8: 'RB1',\n",
              " 9: 'JAK2',\n",
              " 10: 'BTG1',\n",
              " 11: 'ILR3A',\n",
              " 12: 'P2RY8',\n",
              " 13: 'CSF22RA'}"
            ]
          },
          "metadata": {
            "tags": []
          },
          "execution_count": 11
        }
      ]
    },
    {
      "cell_type": "code",
      "metadata": {
        "id": "US8hKKQYXedK",
        "colab": {
          "base_uri": "https://localhost:8080/"
        },
        "outputId": "c6e6a83f-82ef-4860-9380-29f2f69fcf1d"
      },
      "source": [
        "contador = 0\n",
        "lista = {}\n",
        "for i in figure_labels:\n",
        "    lista[i] = contador\n",
        "    contador = contador + 1\n",
        "lista"
      ],
      "execution_count": null,
      "outputs": [
        {
          "output_type": "execute_result",
          "data": {
            "text/plain": [
              "{'BTG1': 10,\n",
              " 'CDKN2A/B': 2,\n",
              " 'CNV NEGATIVE': 1,\n",
              " 'CSF22RA': 13,\n",
              " 'ETV6': 6,\n",
              " 'IKZF1': 5,\n",
              " 'ILR3A': 11,\n",
              " 'JAK2': 9,\n",
              " 'NO PH LIKE': 0,\n",
              " 'NOT AVAILABLE': 4,\n",
              " 'P2RY8': 12,\n",
              " 'PAX5': 7,\n",
              " 'PH LIKE': 3,\n",
              " 'RB1': 8}"
            ]
          },
          "metadata": {
            "tags": []
          },
          "execution_count": 12
        }
      ]
    },
    {
      "cell_type": "code",
      "metadata": {
        "colab": {
          "base_uri": "https://localhost:8080/",
          "height": 700
        },
        "id": "j-AA3l_kXi-5",
        "outputId": "3808ddce-7742-4f8b-ce96-6d9161c2fdc0"
      },
      "source": [
        "lines1 = pd.DataFrame(tabla.groupby('indicador')['frecuencia'].value_counts())\n",
        "lines1"
      ],
      "execution_count": null,
      "outputs": [
        {
          "output_type": "execute_result",
          "data": {
            "text/html": [
              "<div>\n",
              "<style scoped>\n",
              "    .dataframe tbody tr th:only-of-type {\n",
              "        vertical-align: middle;\n",
              "    }\n",
              "\n",
              "    .dataframe tbody tr th {\n",
              "        vertical-align: top;\n",
              "    }\n",
              "\n",
              "    .dataframe thead th {\n",
              "        text-align: right;\n",
              "    }\n",
              "</style>\n",
              "<table border=\"1\" class=\"dataframe\">\n",
              "  <thead>\n",
              "    <tr style=\"text-align: right;\">\n",
              "      <th></th>\n",
              "      <th></th>\n",
              "      <th>frecuencia</th>\n",
              "    </tr>\n",
              "    <tr>\n",
              "      <th>indicador</th>\n",
              "      <th>frecuencia</th>\n",
              "      <th></th>\n",
              "    </tr>\n",
              "  </thead>\n",
              "  <tbody>\n",
              "    <tr>\n",
              "      <th rowspan=\"8\" valign=\"top\">NO PH LIKE</th>\n",
              "      <th>CNV NEGATIVE</th>\n",
              "      <td>62</td>\n",
              "    </tr>\n",
              "    <tr>\n",
              "      <th>CDKN2A/B</th>\n",
              "      <td>19</td>\n",
              "    </tr>\n",
              "    <tr>\n",
              "      <th>NOT AVAILABLE</th>\n",
              "      <td>11</td>\n",
              "    </tr>\n",
              "    <tr>\n",
              "      <th>ETV6</th>\n",
              "      <td>9</td>\n",
              "    </tr>\n",
              "    <tr>\n",
              "      <th>IKZF1</th>\n",
              "      <td>8</td>\n",
              "    </tr>\n",
              "    <tr>\n",
              "      <th>PAX5</th>\n",
              "      <td>5</td>\n",
              "    </tr>\n",
              "    <tr>\n",
              "      <th>RB1</th>\n",
              "      <td>3</td>\n",
              "    </tr>\n",
              "    <tr>\n",
              "      <th>JAK2</th>\n",
              "      <td>1</td>\n",
              "    </tr>\n",
              "    <tr>\n",
              "      <th rowspan=\"12\" valign=\"top\">PH LIKE</th>\n",
              "      <th>CDKN2A/B</th>\n",
              "      <td>6</td>\n",
              "    </tr>\n",
              "    <tr>\n",
              "      <th>IKZF1</th>\n",
              "      <td>5</td>\n",
              "    </tr>\n",
              "    <tr>\n",
              "      <th>PAX5</th>\n",
              "      <td>4</td>\n",
              "    </tr>\n",
              "    <tr>\n",
              "      <th>CNV NEGATIVE</th>\n",
              "      <td>3</td>\n",
              "    </tr>\n",
              "    <tr>\n",
              "      <th>BTG1</th>\n",
              "      <td>2</td>\n",
              "    </tr>\n",
              "    <tr>\n",
              "      <th>ETV6</th>\n",
              "      <td>2</td>\n",
              "    </tr>\n",
              "    <tr>\n",
              "      <th>NOT AVAILABLE</th>\n",
              "      <td>2</td>\n",
              "    </tr>\n",
              "    <tr>\n",
              "      <th>CSF22RA</th>\n",
              "      <td>1</td>\n",
              "    </tr>\n",
              "    <tr>\n",
              "      <th>ILR3A</th>\n",
              "      <td>1</td>\n",
              "    </tr>\n",
              "    <tr>\n",
              "      <th>JAK2</th>\n",
              "      <td>1</td>\n",
              "    </tr>\n",
              "    <tr>\n",
              "      <th>P2RY8</th>\n",
              "      <td>1</td>\n",
              "    </tr>\n",
              "    <tr>\n",
              "      <th>RB1</th>\n",
              "      <td>1</td>\n",
              "    </tr>\n",
              "  </tbody>\n",
              "</table>\n",
              "</div>"
            ],
            "text/plain": [
              "                          frecuencia\n",
              "indicador  frecuencia               \n",
              "NO PH LIKE CNV NEGATIVE           62\n",
              "           CDKN2A/B               19\n",
              "           NOT AVAILABLE          11\n",
              "           ETV6                    9\n",
              "           IKZF1                   8\n",
              "           PAX5                    5\n",
              "           RB1                     3\n",
              "           JAK2                    1\n",
              "PH LIKE    CDKN2A/B                6\n",
              "           IKZF1                   5\n",
              "           PAX5                    4\n",
              "           CNV NEGATIVE            3\n",
              "           BTG1                    2\n",
              "           ETV6                    2\n",
              "           NOT AVAILABLE           2\n",
              "           CSF22RA                 1\n",
              "           ILR3A                   1\n",
              "           JAK2                    1\n",
              "           P2RY8                   1\n",
              "           RB1                     1"
            ]
          },
          "metadata": {
            "tags": []
          },
          "execution_count": 13
        }
      ]
    },
    {
      "cell_type": "code",
      "metadata": {
        "colab": {
          "base_uri": "https://localhost:8080/",
          "height": 111
        },
        "id": "01r4U1N4bQ_h",
        "outputId": "fb39b841-70fe-46f6-c31f-4d4643f74d1e"
      },
      "source": [
        "lines1_coded = pd.DataFrame(tabla.replace(lista).groupby('indicador')['frecuencia'].value_counts())\n",
        "lines1_coded.T"
      ],
      "execution_count": null,
      "outputs": [
        {
          "output_type": "execute_result",
          "data": {
            "text/html": [
              "<div>\n",
              "<style scoped>\n",
              "    .dataframe tbody tr th:only-of-type {\n",
              "        vertical-align: middle;\n",
              "    }\n",
              "\n",
              "    .dataframe tbody tr th {\n",
              "        vertical-align: top;\n",
              "    }\n",
              "\n",
              "    .dataframe thead tr th {\n",
              "        text-align: left;\n",
              "    }\n",
              "</style>\n",
              "<table border=\"1\" class=\"dataframe\">\n",
              "  <thead>\n",
              "    <tr>\n",
              "      <th>indicador</th>\n",
              "      <th colspan=\"8\" halign=\"left\">0</th>\n",
              "      <th colspan=\"12\" halign=\"left\">3</th>\n",
              "    </tr>\n",
              "    <tr>\n",
              "      <th>frecuencia</th>\n",
              "      <th>1.0</th>\n",
              "      <th>2.0</th>\n",
              "      <th>4.0</th>\n",
              "      <th>6.0</th>\n",
              "      <th>5.0</th>\n",
              "      <th>7.0</th>\n",
              "      <th>8.0</th>\n",
              "      <th>9.0</th>\n",
              "      <th>2.0</th>\n",
              "      <th>5.0</th>\n",
              "      <th>7.0</th>\n",
              "      <th>1.0</th>\n",
              "      <th>4.0</th>\n",
              "      <th>6.0</th>\n",
              "      <th>10.0</th>\n",
              "      <th>8.0</th>\n",
              "      <th>9.0</th>\n",
              "      <th>11.0</th>\n",
              "      <th>12.0</th>\n",
              "      <th>13.0</th>\n",
              "    </tr>\n",
              "  </thead>\n",
              "  <tbody>\n",
              "    <tr>\n",
              "      <th>frecuencia</th>\n",
              "      <td>62</td>\n",
              "      <td>19</td>\n",
              "      <td>11</td>\n",
              "      <td>9</td>\n",
              "      <td>8</td>\n",
              "      <td>5</td>\n",
              "      <td>3</td>\n",
              "      <td>1</td>\n",
              "      <td>6</td>\n",
              "      <td>5</td>\n",
              "      <td>4</td>\n",
              "      <td>3</td>\n",
              "      <td>2</td>\n",
              "      <td>2</td>\n",
              "      <td>2</td>\n",
              "      <td>1</td>\n",
              "      <td>1</td>\n",
              "      <td>1</td>\n",
              "      <td>1</td>\n",
              "      <td>1</td>\n",
              "    </tr>\n",
              "  </tbody>\n",
              "</table>\n",
              "</div>"
            ],
            "text/plain": [
              "indicador     0                           ...    3                         \n",
              "frecuencia 1.0  2.0  4.0  6.0  5.0  7.0   ... 10.0 8.0  9.0  11.0 12.0 13.0\n",
              "frecuencia   62   19   11    9    8    5  ...    2    1    1    1    1    1\n",
              "\n",
              "[1 rows x 20 columns]"
            ]
          },
          "metadata": {
            "tags": []
          },
          "execution_count": 14
        }
      ]
    },
    {
      "cell_type": "code",
      "metadata": {
        "colab": {
          "base_uri": "https://localhost:8080/"
        },
        "id": "jMmfrldKdjqc",
        "outputId": "ed7553e4-022c-4f6f-c737-05bdede7532c"
      },
      "source": [
        "lines1_coded.index.to_series().reset_index().indicador.to_list()"
      ],
      "execution_count": null,
      "outputs": [
        {
          "output_type": "execute_result",
          "data": {
            "text/plain": [
              "[0, 0, 0, 0, 0, 0, 0, 0, 3, 3, 3, 3, 3, 3, 3, 3, 3, 3, 3, 3]"
            ]
          },
          "metadata": {
            "tags": []
          },
          "execution_count": 15
        }
      ]
    },
    {
      "cell_type": "code",
      "metadata": {
        "colab": {
          "base_uri": "https://localhost:8080/"
        },
        "id": "_YSWw-tderhv",
        "outputId": "5b1a0e07-1c04-4eb7-bfb9-eb8bdec2e966"
      },
      "source": [
        "lines1_coded.index.to_series().reset_index().frecuencia.to_list()"
      ],
      "execution_count": null,
      "outputs": [
        {
          "output_type": "execute_result",
          "data": {
            "text/plain": [
              "[1.0,\n",
              " 2.0,\n",
              " 4.0,\n",
              " 6.0,\n",
              " 5.0,\n",
              " 7.0,\n",
              " 8.0,\n",
              " 9.0,\n",
              " 2.0,\n",
              " 5.0,\n",
              " 7.0,\n",
              " 1.0,\n",
              " 4.0,\n",
              " 6.0,\n",
              " 10.0,\n",
              " 8.0,\n",
              " 9.0,\n",
              " 11.0,\n",
              " 12.0,\n",
              " 13.0]"
            ]
          },
          "metadata": {
            "tags": []
          },
          "execution_count": 16
        }
      ]
    },
    {
      "cell_type": "code",
      "metadata": {
        "colab": {
          "base_uri": "https://localhost:8080/"
        },
        "id": "MSe5F45XcqQ3",
        "outputId": "5c250e0d-d126-430c-d8ef-31f1f9b825c0"
      },
      "source": [
        "lines1_coded.frecuencia.to_list()"
      ],
      "execution_count": null,
      "outputs": [
        {
          "output_type": "execute_result",
          "data": {
            "text/plain": [
              "[62, 19, 11, 9, 8, 5, 3, 1, 6, 5, 4, 3, 2, 2, 2, 1, 1, 1, 1, 1]"
            ]
          },
          "metadata": {
            "tags": []
          },
          "execution_count": 17
        }
      ]
    },
    {
      "cell_type": "code",
      "metadata": {
        "colab": {
          "base_uri": "https://localhost:8080/"
        },
        "id": "28ujHrwacaHQ",
        "outputId": "ae7ae6f9-e592-49e7-e1e4-231e0d9e1088"
      },
      "source": [
        "# fila 1 = target, fila 2 = source, fila 3 = value\n",
        "target1 = lines1_coded.index.to_series().reset_index().frecuencia.to_list()\n",
        "source1 = lines1_coded.index.to_series().reset_index().indicador.to_list()\n",
        "value1 = lines1_coded.frecuencia.to_list()\n",
        "len(source1), len(target1), len(value1)"
      ],
      "execution_count": null,
      "outputs": [
        {
          "output_type": "execute_result",
          "data": {
            "text/plain": [
              "(20, 20, 20)"
            ]
          },
          "metadata": {
            "tags": []
          },
          "execution_count": 18
        }
      ]
    },
    {
      "cell_type": "code",
      "metadata": {
        "colab": {
          "base_uri": "https://localhost:8080/",
          "height": 542
        },
        "id": "muT-smvafJAH",
        "outputId": "c4cf0ac2-7a27-4700-a052-030e4acbf8c7"
      },
      "source": [
        "fig = go.Figure(data=[go.Sankey(\n",
        "    node = dict(\n",
        "      pad = 15,\n",
        "      thickness = 20,\n",
        "      line = dict(color = \"black\", width = 1),\n",
        "      label = figure_labels_with_numbers\n",
        "    ),\n",
        "    link = dict(\n",
        "      source = source1, \n",
        "      target = target1,\n",
        "      value = value1\n",
        "  ))])\n",
        "\n",
        "fig.update_layout(title_text=\"A\", font_size=12)\n",
        "fig.show()"
      ],
      "execution_count": null,
      "outputs": [
        {
          "output_type": "display_data",
          "data": {
            "text/html": [
              "<html>\n",
              "<head><meta charset=\"utf-8\" /></head>\n",
              "<body>\n",
              "    <div>\n",
              "            <script src=\"https://cdnjs.cloudflare.com/ajax/libs/mathjax/2.7.5/MathJax.js?config=TeX-AMS-MML_SVG\"></script><script type=\"text/javascript\">if (window.MathJax) {MathJax.Hub.Config({SVG: {font: \"STIX-Web\"}});}</script>\n",
              "                <script type=\"text/javascript\">window.PlotlyConfig = {MathJaxConfig: 'local'};</script>\n",
              "        <script src=\"https://cdn.plot.ly/plotly-latest.min.js\"></script>    \n",
              "            <div id=\"77c8548c-6c09-4ebd-9432-2b68fbacab61\" class=\"plotly-graph-div\" style=\"height:525px; width:100%;\"></div>\n",
              "            <script type=\"text/javascript\">\n",
              "                \n",
              "                    window.PLOTLYENV=window.PLOTLYENV || {};\n",
              "                    \n",
              "                if (document.getElementById(\"77c8548c-6c09-4ebd-9432-2b68fbacab61\")) {\n",
              "                    Plotly.newPlot(\n",
              "                        '77c8548c-6c09-4ebd-9432-2b68fbacab61',\n",
              "                        [{\"link\": {\"source\": [0, 0, 0, 0, 0, 0, 0, 0, 3, 3, 3, 3, 3, 3, 3, 3, 3, 3, 3, 3], \"target\": [1.0, 2.0, 4.0, 6.0, 5.0, 7.0, 8.0, 9.0, 2.0, 5.0, 7.0, 1.0, 4.0, 6.0, 10.0, 8.0, 9.0, 11.0, 12.0, 13.0], \"value\": [62, 19, 11, 9, 8, 5, 3, 1, 6, 5, 4, 3, 2, 2, 2, 1, 1, 1, 1, 1]}, \"node\": {\"label\": [\"NON-PH-LIKE (106)\", \"CNV-NEGATIVE (65)\", \"CDKN2A/B (25)\", \"PH-LIKE (15)\", \"IKZF1 (13)\", \"NOT AVAILABLE (13)\", \"ETV6 (11)\", \"PAX5 (9)\", \"RB1 (4)\", \"BTG1 (2)\", \"JAK2 (2)\", \"CSF22RA (1)\", \"P2RY8 (1)\", \"ILR3A (1)\"], \"line\": {\"color\": \"black\", \"width\": 1}, \"pad\": 15, \"thickness\": 20}, \"type\": \"sankey\"}],\n",
              "                        {\"font\": {\"size\": 12}, \"template\": {\"data\": {\"bar\": [{\"error_x\": {\"color\": \"#2a3f5f\"}, \"error_y\": {\"color\": \"#2a3f5f\"}, \"marker\": {\"line\": {\"color\": \"#E5ECF6\", \"width\": 0.5}}, \"type\": \"bar\"}], \"barpolar\": [{\"marker\": {\"line\": {\"color\": \"#E5ECF6\", \"width\": 0.5}}, \"type\": \"barpolar\"}], \"carpet\": [{\"aaxis\": {\"endlinecolor\": \"#2a3f5f\", \"gridcolor\": \"white\", \"linecolor\": \"white\", \"minorgridcolor\": \"white\", \"startlinecolor\": \"#2a3f5f\"}, \"baxis\": {\"endlinecolor\": \"#2a3f5f\", \"gridcolor\": \"white\", \"linecolor\": \"white\", \"minorgridcolor\": \"white\", \"startlinecolor\": \"#2a3f5f\"}, \"type\": \"carpet\"}], \"choropleth\": [{\"colorbar\": {\"outlinewidth\": 0, \"ticks\": \"\"}, \"type\": \"choropleth\"}], \"contour\": [{\"colorbar\": {\"outlinewidth\": 0, \"ticks\": \"\"}, \"colorscale\": [[0.0, \"#0d0887\"], [0.1111111111111111, \"#46039f\"], [0.2222222222222222, \"#7201a8\"], [0.3333333333333333, \"#9c179e\"], [0.4444444444444444, \"#bd3786\"], [0.5555555555555556, \"#d8576b\"], [0.6666666666666666, \"#ed7953\"], [0.7777777777777778, \"#fb9f3a\"], [0.8888888888888888, \"#fdca26\"], [1.0, \"#f0f921\"]], \"type\": \"contour\"}], \"contourcarpet\": [{\"colorbar\": {\"outlinewidth\": 0, \"ticks\": \"\"}, \"type\": \"contourcarpet\"}], \"heatmap\": [{\"colorbar\": {\"outlinewidth\": 0, \"ticks\": \"\"}, \"colorscale\": [[0.0, \"#0d0887\"], [0.1111111111111111, \"#46039f\"], [0.2222222222222222, \"#7201a8\"], [0.3333333333333333, \"#9c179e\"], [0.4444444444444444, \"#bd3786\"], [0.5555555555555556, \"#d8576b\"], [0.6666666666666666, \"#ed7953\"], [0.7777777777777778, \"#fb9f3a\"], [0.8888888888888888, \"#fdca26\"], [1.0, \"#f0f921\"]], \"type\": \"heatmap\"}], \"heatmapgl\": [{\"colorbar\": {\"outlinewidth\": 0, \"ticks\": \"\"}, \"colorscale\": [[0.0, \"#0d0887\"], [0.1111111111111111, \"#46039f\"], [0.2222222222222222, \"#7201a8\"], [0.3333333333333333, \"#9c179e\"], [0.4444444444444444, \"#bd3786\"], [0.5555555555555556, \"#d8576b\"], [0.6666666666666666, \"#ed7953\"], [0.7777777777777778, \"#fb9f3a\"], [0.8888888888888888, \"#fdca26\"], [1.0, \"#f0f921\"]], \"type\": \"heatmapgl\"}], \"histogram\": [{\"marker\": {\"colorbar\": {\"outlinewidth\": 0, \"ticks\": \"\"}}, \"type\": \"histogram\"}], \"histogram2d\": [{\"colorbar\": {\"outlinewidth\": 0, \"ticks\": \"\"}, \"colorscale\": [[0.0, \"#0d0887\"], [0.1111111111111111, \"#46039f\"], [0.2222222222222222, \"#7201a8\"], [0.3333333333333333, \"#9c179e\"], [0.4444444444444444, \"#bd3786\"], [0.5555555555555556, \"#d8576b\"], [0.6666666666666666, \"#ed7953\"], [0.7777777777777778, \"#fb9f3a\"], [0.8888888888888888, \"#fdca26\"], [1.0, \"#f0f921\"]], \"type\": \"histogram2d\"}], \"histogram2dcontour\": [{\"colorbar\": {\"outlinewidth\": 0, \"ticks\": \"\"}, \"colorscale\": [[0.0, \"#0d0887\"], [0.1111111111111111, \"#46039f\"], [0.2222222222222222, \"#7201a8\"], [0.3333333333333333, \"#9c179e\"], [0.4444444444444444, \"#bd3786\"], [0.5555555555555556, \"#d8576b\"], [0.6666666666666666, \"#ed7953\"], [0.7777777777777778, \"#fb9f3a\"], [0.8888888888888888, \"#fdca26\"], [1.0, \"#f0f921\"]], \"type\": \"histogram2dcontour\"}], \"mesh3d\": [{\"colorbar\": {\"outlinewidth\": 0, \"ticks\": \"\"}, \"type\": \"mesh3d\"}], \"parcoords\": [{\"line\": {\"colorbar\": {\"outlinewidth\": 0, \"ticks\": \"\"}}, \"type\": \"parcoords\"}], \"pie\": [{\"automargin\": true, \"type\": \"pie\"}], \"scatter\": [{\"marker\": {\"colorbar\": {\"outlinewidth\": 0, \"ticks\": \"\"}}, \"type\": \"scatter\"}], \"scatter3d\": [{\"line\": {\"colorbar\": {\"outlinewidth\": 0, \"ticks\": \"\"}}, \"marker\": {\"colorbar\": {\"outlinewidth\": 0, \"ticks\": \"\"}}, \"type\": \"scatter3d\"}], \"scattercarpet\": [{\"marker\": {\"colorbar\": {\"outlinewidth\": 0, \"ticks\": \"\"}}, \"type\": \"scattercarpet\"}], \"scattergeo\": [{\"marker\": {\"colorbar\": {\"outlinewidth\": 0, \"ticks\": \"\"}}, \"type\": \"scattergeo\"}], \"scattergl\": [{\"marker\": {\"colorbar\": {\"outlinewidth\": 0, \"ticks\": \"\"}}, \"type\": \"scattergl\"}], \"scattermapbox\": [{\"marker\": {\"colorbar\": {\"outlinewidth\": 0, \"ticks\": \"\"}}, \"type\": \"scattermapbox\"}], \"scatterpolar\": [{\"marker\": {\"colorbar\": {\"outlinewidth\": 0, \"ticks\": \"\"}}, \"type\": \"scatterpolar\"}], \"scatterpolargl\": [{\"marker\": {\"colorbar\": {\"outlinewidth\": 0, \"ticks\": \"\"}}, \"type\": \"scatterpolargl\"}], \"scatterternary\": [{\"marker\": {\"colorbar\": {\"outlinewidth\": 0, \"ticks\": \"\"}}, \"type\": \"scatterternary\"}], \"surface\": [{\"colorbar\": {\"outlinewidth\": 0, \"ticks\": \"\"}, \"colorscale\": [[0.0, \"#0d0887\"], [0.1111111111111111, \"#46039f\"], [0.2222222222222222, \"#7201a8\"], [0.3333333333333333, \"#9c179e\"], [0.4444444444444444, \"#bd3786\"], [0.5555555555555556, \"#d8576b\"], [0.6666666666666666, \"#ed7953\"], [0.7777777777777778, \"#fb9f3a\"], [0.8888888888888888, \"#fdca26\"], [1.0, \"#f0f921\"]], \"type\": \"surface\"}], \"table\": [{\"cells\": {\"fill\": {\"color\": \"#EBF0F8\"}, \"line\": {\"color\": \"white\"}}, \"header\": {\"fill\": {\"color\": \"#C8D4E3\"}, \"line\": {\"color\": \"white\"}}, \"type\": \"table\"}]}, \"layout\": {\"annotationdefaults\": {\"arrowcolor\": \"#2a3f5f\", \"arrowhead\": 0, \"arrowwidth\": 1}, \"coloraxis\": {\"colorbar\": {\"outlinewidth\": 0, \"ticks\": \"\"}}, \"colorscale\": {\"diverging\": [[0, \"#8e0152\"], [0.1, \"#c51b7d\"], [0.2, \"#de77ae\"], [0.3, \"#f1b6da\"], [0.4, \"#fde0ef\"], [0.5, \"#f7f7f7\"], [0.6, \"#e6f5d0\"], [0.7, \"#b8e186\"], [0.8, \"#7fbc41\"], [0.9, \"#4d9221\"], [1, \"#276419\"]], \"sequential\": [[0.0, \"#0d0887\"], [0.1111111111111111, \"#46039f\"], [0.2222222222222222, \"#7201a8\"], [0.3333333333333333, \"#9c179e\"], [0.4444444444444444, \"#bd3786\"], [0.5555555555555556, \"#d8576b\"], [0.6666666666666666, \"#ed7953\"], [0.7777777777777778, \"#fb9f3a\"], [0.8888888888888888, \"#fdca26\"], [1.0, \"#f0f921\"]], \"sequentialminus\": [[0.0, \"#0d0887\"], [0.1111111111111111, \"#46039f\"], [0.2222222222222222, \"#7201a8\"], [0.3333333333333333, \"#9c179e\"], [0.4444444444444444, \"#bd3786\"], [0.5555555555555556, \"#d8576b\"], [0.6666666666666666, \"#ed7953\"], [0.7777777777777778, \"#fb9f3a\"], [0.8888888888888888, \"#fdca26\"], [1.0, \"#f0f921\"]]}, \"colorway\": [\"#636efa\", \"#EF553B\", \"#00cc96\", \"#ab63fa\", \"#FFA15A\", \"#19d3f3\", \"#FF6692\", \"#B6E880\", \"#FF97FF\", \"#FECB52\"], \"font\": {\"color\": \"#2a3f5f\"}, \"geo\": {\"bgcolor\": \"white\", \"lakecolor\": \"white\", \"landcolor\": \"#E5ECF6\", \"showlakes\": true, \"showland\": true, \"subunitcolor\": \"white\"}, \"hoverlabel\": {\"align\": \"left\"}, \"hovermode\": \"closest\", \"mapbox\": {\"style\": \"light\"}, \"paper_bgcolor\": \"white\", \"plot_bgcolor\": \"#E5ECF6\", \"polar\": {\"angularaxis\": {\"gridcolor\": \"white\", \"linecolor\": \"white\", \"ticks\": \"\"}, \"bgcolor\": \"#E5ECF6\", \"radialaxis\": {\"gridcolor\": \"white\", \"linecolor\": \"white\", \"ticks\": \"\"}}, \"scene\": {\"xaxis\": {\"backgroundcolor\": \"#E5ECF6\", \"gridcolor\": \"white\", \"gridwidth\": 2, \"linecolor\": \"white\", \"showbackground\": true, \"ticks\": \"\", \"zerolinecolor\": \"white\"}, \"yaxis\": {\"backgroundcolor\": \"#E5ECF6\", \"gridcolor\": \"white\", \"gridwidth\": 2, \"linecolor\": \"white\", \"showbackground\": true, \"ticks\": \"\", \"zerolinecolor\": \"white\"}, \"zaxis\": {\"backgroundcolor\": \"#E5ECF6\", \"gridcolor\": \"white\", \"gridwidth\": 2, \"linecolor\": \"white\", \"showbackground\": true, \"ticks\": \"\", \"zerolinecolor\": \"white\"}}, \"shapedefaults\": {\"line\": {\"color\": \"#2a3f5f\"}}, \"ternary\": {\"aaxis\": {\"gridcolor\": \"white\", \"linecolor\": \"white\", \"ticks\": \"\"}, \"baxis\": {\"gridcolor\": \"white\", \"linecolor\": \"white\", \"ticks\": \"\"}, \"bgcolor\": \"#E5ECF6\", \"caxis\": {\"gridcolor\": \"white\", \"linecolor\": \"white\", \"ticks\": \"\"}}, \"title\": {\"x\": 0.05}, \"xaxis\": {\"automargin\": true, \"gridcolor\": \"white\", \"linecolor\": \"white\", \"ticks\": \"\", \"title\": {\"standoff\": 15}, \"zerolinecolor\": \"white\", \"zerolinewidth\": 2}, \"yaxis\": {\"automargin\": true, \"gridcolor\": \"white\", \"linecolor\": \"white\", \"ticks\": \"\", \"title\": {\"standoff\": 15}, \"zerolinecolor\": \"white\", \"zerolinewidth\": 2}}}, \"title\": {\"text\": \"A\"}},\n",
              "                        {\"responsive\": true}\n",
              "                    ).then(function(){\n",
              "                            \n",
              "var gd = document.getElementById('77c8548c-6c09-4ebd-9432-2b68fbacab61');\n",
              "var x = new MutationObserver(function (mutations, observer) {{\n",
              "        var display = window.getComputedStyle(gd).display;\n",
              "        if (!display || display === 'none') {{\n",
              "            console.log([gd, 'removed!']);\n",
              "            Plotly.purge(gd);\n",
              "            observer.disconnect();\n",
              "        }}\n",
              "}});\n",
              "\n",
              "// Listen for the removal of the full notebook cells\n",
              "var notebookContainer = gd.closest('#notebook-container');\n",
              "if (notebookContainer) {{\n",
              "    x.observe(notebookContainer, {childList: true});\n",
              "}}\n",
              "\n",
              "// Listen for the clearing of the current output cell\n",
              "var outputEl = gd.closest('.output');\n",
              "if (outputEl) {{\n",
              "    x.observe(outputEl, {childList: true});\n",
              "}}\n",
              "\n",
              "                        })\n",
              "                };\n",
              "                \n",
              "            </script>\n",
              "        </div>\n",
              "</body>\n",
              "</html>"
            ]
          },
          "metadata": {
            "tags": []
          }
        }
      ]
    }
  ]
}